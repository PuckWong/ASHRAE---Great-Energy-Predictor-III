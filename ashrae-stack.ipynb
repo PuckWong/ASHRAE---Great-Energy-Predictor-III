{
 "cells": [
  {
   "cell_type": "code",
   "execution_count": 1,
   "metadata": {
    "_cell_guid": "b1076dfc-b9ad-4769-8c92-a6c4dae69d19",
    "_uuid": "8f2839f25d086af736a60e9eeb907d3b93b6e0e5"
   },
   "outputs": [],
   "source": [
    "import numpy as np # linear algebra\n",
    "import pandas as pd # data processing, CSV file I/O (e.g. pd.read_csv)\n",
    "\n",
    "from sklearn.model_selection import KFold, StratifiedKFold, GroupKFold\n",
    "from sklearn.metrics import mean_squared_error\n",
    "from sklearn.linear_model import LinearRegression\n",
    "from sklearn.svm import LinearSVR\n",
    "import lightgbm as lgb\n",
    "\n",
    "import os, gc, glob\n",
    "import itertools\n",
    "from tqdm import tqdm_notebook\n",
    "import warnings\n",
    "warnings.simplefilter('ignore')"
   ]
  },
  {
   "cell_type": "code",
   "execution_count": 2,
   "metadata": {},
   "outputs": [],
   "source": [
    "# Original code from https://www.kaggle.com/gemartin/load-data-reduce-memory-usage by @gemartin\n",
    "# Modified to support timestamp type, categorical type\n",
    "# Modified to add option to use float16 or not. feather format does not support float16.\n",
    "from pandas.api.types import is_datetime64_any_dtype as is_datetime\n",
    "from pandas.api.types import is_categorical_dtype\n",
    "\n",
    "def reduce_mem_usage(df, use_float16=False):\n",
    "    \"\"\" iterate through all the columns of a dataframe and modify the data type\n",
    "        to reduce memory usage.        \n",
    "    \"\"\"\n",
    "    start_mem = df.memory_usage().sum() / 1024**2\n",
    "    print('Memory usage of dataframe is {:.2f} MB'.format(start_mem))\n",
    "    \n",
    "    for col in df.columns:\n",
    "        if is_datetime(df[col]) or is_categorical_dtype(df[col]):\n",
    "            # skip datetime type or categorical type\n",
    "            continue\n",
    "        col_type = df[col].dtype\n",
    "        \n",
    "        if col_type != object:\n",
    "            c_min = df[col].min()\n",
    "            c_max = df[col].max()\n",
    "            if str(col_type)[:3] == 'int':\n",
    "                if c_min > np.iinfo(np.int8).min and c_max < np.iinfo(np.int8).max:\n",
    "                    df[col] = df[col].astype(np.int8)\n",
    "                elif c_min > np.iinfo(np.int16).min and c_max < np.iinfo(np.int16).max:\n",
    "                    df[col] = df[col].astype(np.int16)\n",
    "                elif c_min > np.iinfo(np.int32).min and c_max < np.iinfo(np.int32).max:\n",
    "                    df[col] = df[col].astype(np.int32)\n",
    "                elif c_min > np.iinfo(np.int64).min and c_max < np.iinfo(np.int64).max:\n",
    "                    df[col] = df[col].astype(np.int64)  \n",
    "            else:\n",
    "                if use_float16 and c_min > np.finfo(np.float16).min and c_max < np.finfo(np.float16).max:\n",
    "                    df[col] = df[col].astype(np.float16)\n",
    "                elif c_min > np.finfo(np.float32).min and c_max < np.finfo(np.float32).max:\n",
    "                    df[col] = df[col].astype(np.float32)\n",
    "                else:\n",
    "                    df[col] = df[col].astype(np.float64)\n",
    "        else:\n",
    "            df[col] = df[col].astype('category')\n",
    "\n",
    "    end_mem = df.memory_usage().sum() / 1024**2\n",
    "    print('Memory usage after optimization is: {:.2f} MB'.format(end_mem))\n",
    "    print('Decreased by {:.1f}%'.format(100 * (start_mem - end_mem) / start_mem))\n",
    "    \n",
    "    return df"
   ]
  },
  {
   "cell_type": "code",
   "execution_count": 3,
   "metadata": {},
   "outputs": [
    {
     "data": {
      "text/plain": [
       "['/kaggle/input/ashrae-catboost-infer/submission.csv',\n",
       " '/kaggle/input/ashrae-catboostiii-prediction/submission.csv',\n",
       " '/kaggle/input/ashrae-kfold-lightgbm/submission.csv',\n",
       " '/kaggle/input/ashrae-lgb-drop/submission.csv',\n",
       " '/kaggle/input/ashrae-no-folds/submission.csv',\n",
       " '/kaggle/input/ashrae-stratified-kfold/submission.csv',\n",
       " '/kaggle/input/ashrae-gkfold-lgb/submission.csv',\n",
       " '/kaggle/input/ashrae-2folds-all/submission.csv',\n",
       " '/kaggle/input/ashrae-embednn/submission.csv']"
      ]
     },
     "execution_count": 3,
     "metadata": {},
     "output_type": "execute_result"
    }
   ],
   "source": [
    "['/kaggle/input/ashrae-catboost-infer/submission.csv',\n",
    " '/kaggle/input/ashrae-catboostiii-prediction/submission.csv',\n",
    " '/kaggle/input/ashrae-kfold-lightgbm/submission.csv',\n",
    " '/kaggle/input/ashrae-lgb-drop/submission.csv',\n",
    " '/kaggle/input/ashrae-no-folds/submission.csv',\n",
    " '/kaggle/input/ashrae-stratified-kfold/submission.csv',\n",
    " '/kaggle/input/ashrae-gkfold-lgb/submission.csv',\n",
    " '/kaggle/input/ashrae-2folds-all/submission.csv',\n",
    " '/kaggle/input/ashrae-embednn/submission.csv']"
   ]
  },
  {
   "cell_type": "code",
   "execution_count": 4,
   "metadata": {},
   "outputs": [],
   "source": [
    "#p0 cat\n",
    "#p1 R\n",
    "#p2 kfold\n",
    "#p3 drop\n",
    "#p4 skfold\n",
    "#p5 kfold without b\n",
    "#p6 gkfold\n",
    "#p7 all\n",
    "#p8 nn"
   ]
  },
  {
   "cell_type": "code",
   "execution_count": 5,
   "metadata": {},
   "outputs": [],
   "source": [
    "#chioce 1:p6, p1, p4, p7, p8"
   ]
  },
  {
   "cell_type": "code",
   "execution_count": 6,
   "metadata": {},
   "outputs": [],
   "source": [
    "data = pd.read_feather('/kaggle/input/ashrae-models-preds/subs.feather')\n",
    "leak = pd.read_csv('/kaggle/input/ashrae-models-preds/leak.csv')"
   ]
  },
  {
   "cell_type": "code",
   "execution_count": 7,
   "metadata": {},
   "outputs": [],
   "source": [
    "data = data.merge(leak, left_index=True, right_on=['row_id'], how='left').reset_index(drop=True)"
   ]
  },
  {
   "cell_type": "code",
   "execution_count": 8,
   "metadata": {},
   "outputs": [],
   "source": [
    "train = data[~data['meter_reading'].isnull()]\n",
    "test = data[data['meter_reading'].isnull()]\n",
    "train.reset_index(drop=True, inplace=True)\n",
    "test.reset_index(drop=True, inplace=True)"
   ]
  },
  {
   "cell_type": "code",
   "execution_count": 9,
   "metadata": {},
   "outputs": [
    {
     "name": "stdout",
     "output_type": "stream",
     "text": [
      "lr oof cv: 0.9510658018056783\n"
     ]
    }
   ],
   "source": [
    "feature = ['p0', 'p1', 'p2', 'p3', 'p4', 'p5', 'p6', 'p8', 'p7']\n",
    "NFOLD = 2\n",
    "kf = KFold(n_splits=NFOLD)\n",
    "preds = np.zeros(len(test))\n",
    "oof = np.zeros(len(train))\n",
    "models = []\n",
    "for train_index, val_index in kf.split(train):\n",
    "    train_features = train[feature].loc[train_index]\n",
    "    train_target = train['meter_reading'].loc[train_index].map(np.log1p)\n",
    "    \n",
    "    val_features = train[feature].loc[val_index]\n",
    "    val_target = train['meter_reading'].loc[val_index].map(np.log1p)\n",
    "    lr = LinearRegression(n_jobs=-1)\n",
    "    lr.fit(train_features, train_target)\n",
    "    models.append(lr)\n",
    "    preds += lr.predict(test[feature])/NFOLD\n",
    "    oof[val_index] = lr.predict(val_features)\n",
    "    del train_features, train_target, val_features, val_target\n",
    "    gc.collect()\n",
    "    \n",
    "print('lr oof cv:', np.sqrt(mean_squared_error(train['meter_reading'].map(np.log1p), oof)))"
   ]
  },
  {
   "cell_type": "code",
   "execution_count": 10,
   "metadata": {},
   "outputs": [],
   "source": [
    "data.loc[test['row_id'].values, 'meter_reading'] = np.expm1(preds)\n",
    "data.sort_values(['row_id'], inplace=True)\n",
    "data['meter_reading'].isnull().sum()\n",
    "data[['row_id', 'meter_reading']].to_csv('submission.csv', index=False)"
   ]
  },
  {
   "cell_type": "code",
   "execution_count": 11,
   "metadata": {},
   "outputs": [
    {
     "data": {
      "text/html": [
       "<div>\n",
       "<style scoped>\n",
       "    .dataframe tbody tr th:only-of-type {\n",
       "        vertical-align: middle;\n",
       "    }\n",
       "\n",
       "    .dataframe tbody tr th {\n",
       "        vertical-align: top;\n",
       "    }\n",
       "\n",
       "    .dataframe thead th {\n",
       "        text-align: right;\n",
       "    }\n",
       "</style>\n",
       "<table border=\"1\" class=\"dataframe\">\n",
       "  <thead>\n",
       "    <tr style=\"text-align: right;\">\n",
       "      <th></th>\n",
       "      <th>p0</th>\n",
       "      <th>p1</th>\n",
       "      <th>p2</th>\n",
       "      <th>p3</th>\n",
       "      <th>p4</th>\n",
       "      <th>p5</th>\n",
       "      <th>p6</th>\n",
       "      <th>p7</th>\n",
       "      <th>p8</th>\n",
       "      <th>row_id</th>\n",
       "      <th>meter_reading</th>\n",
       "    </tr>\n",
       "  </thead>\n",
       "  <tbody>\n",
       "    <tr>\n",
       "      <th>0</th>\n",
       "      <td>5.594895</td>\n",
       "      <td>5.283822</td>\n",
       "      <td>5.070209</td>\n",
       "      <td>5.171024</td>\n",
       "      <td>5.051921</td>\n",
       "      <td>5.188169</td>\n",
       "      <td>5.105268</td>\n",
       "      <td>5.006188</td>\n",
       "      <td>5.170560</td>\n",
       "      <td>0</td>\n",
       "      <td>173.370300</td>\n",
       "    </tr>\n",
       "    <tr>\n",
       "      <th>1</th>\n",
       "      <td>4.471448</td>\n",
       "      <td>4.157661</td>\n",
       "      <td>4.332657</td>\n",
       "      <td>4.346334</td>\n",
       "      <td>4.378818</td>\n",
       "      <td>4.444156</td>\n",
       "      <td>4.350743</td>\n",
       "      <td>4.441184</td>\n",
       "      <td>4.584682</td>\n",
       "      <td>1</td>\n",
       "      <td>53.512720</td>\n",
       "    </tr>\n",
       "    <tr>\n",
       "      <th>2</th>\n",
       "      <td>2.505161</td>\n",
       "      <td>2.199738</td>\n",
       "      <td>2.731363</td>\n",
       "      <td>2.425687</td>\n",
       "      <td>2.632862</td>\n",
       "      <td>2.084031</td>\n",
       "      <td>2.134552</td>\n",
       "      <td>2.332160</td>\n",
       "      <td>2.419872</td>\n",
       "      <td>2</td>\n",
       "      <td>6.143042</td>\n",
       "    </tr>\n",
       "    <tr>\n",
       "      <th>3</th>\n",
       "      <td>5.782856</td>\n",
       "      <td>5.789957</td>\n",
       "      <td>5.624600</td>\n",
       "      <td>5.394196</td>\n",
       "      <td>5.417315</td>\n",
       "      <td>5.702923</td>\n",
       "      <td>5.720874</td>\n",
       "      <td>5.574283</td>\n",
       "      <td>5.599818</td>\n",
       "      <td>3</td>\n",
       "      <td>101.701470</td>\n",
       "    </tr>\n",
       "    <tr>\n",
       "      <th>4</th>\n",
       "      <td>6.803643</td>\n",
       "      <td>7.040636</td>\n",
       "      <td>7.082393</td>\n",
       "      <td>6.892032</td>\n",
       "      <td>6.862860</td>\n",
       "      <td>7.305004</td>\n",
       "      <td>7.260651</td>\n",
       "      <td>7.049832</td>\n",
       "      <td>6.688233</td>\n",
       "      <td>4</td>\n",
       "      <td>1141.240700</td>\n",
       "    </tr>\n",
       "    <tr>\n",
       "      <th>...</th>\n",
       "      <td>...</td>\n",
       "      <td>...</td>\n",
       "      <td>...</td>\n",
       "      <td>...</td>\n",
       "      <td>...</td>\n",
       "      <td>...</td>\n",
       "      <td>...</td>\n",
       "      <td>...</td>\n",
       "      <td>...</td>\n",
       "      <td>...</td>\n",
       "      <td>...</td>\n",
       "    </tr>\n",
       "    <tr>\n",
       "      <th>41697595</th>\n",
       "      <td>2.212548</td>\n",
       "      <td>2.115184</td>\n",
       "      <td>2.051520</td>\n",
       "      <td>2.041869</td>\n",
       "      <td>1.966108</td>\n",
       "      <td>2.083446</td>\n",
       "      <td>1.988594</td>\n",
       "      <td>1.988963</td>\n",
       "      <td>2.245174</td>\n",
       "      <td>41697595</td>\n",
       "      <td>6.927099</td>\n",
       "    </tr>\n",
       "    <tr>\n",
       "      <th>41697596</th>\n",
       "      <td>1.954034</td>\n",
       "      <td>2.177629</td>\n",
       "      <td>1.711465</td>\n",
       "      <td>1.749200</td>\n",
       "      <td>1.635521</td>\n",
       "      <td>1.727292</td>\n",
       "      <td>1.662957</td>\n",
       "      <td>1.656605</td>\n",
       "      <td>2.037146</td>\n",
       "      <td>41697596</td>\n",
       "      <td>6.099778</td>\n",
       "    </tr>\n",
       "    <tr>\n",
       "      <th>41697597</th>\n",
       "      <td>1.236636</td>\n",
       "      <td>1.972442</td>\n",
       "      <td>1.348969</td>\n",
       "      <td>1.242713</td>\n",
       "      <td>1.370035</td>\n",
       "      <td>2.158276</td>\n",
       "      <td>2.130444</td>\n",
       "      <td>2.139587</td>\n",
       "      <td>1.771997</td>\n",
       "      <td>41697597</td>\n",
       "      <td>4.461183</td>\n",
       "    </tr>\n",
       "    <tr>\n",
       "      <th>41697598</th>\n",
       "      <td>5.205480</td>\n",
       "      <td>5.215278</td>\n",
       "      <td>5.191372</td>\n",
       "      <td>5.117185</td>\n",
       "      <td>5.196886</td>\n",
       "      <td>5.191440</td>\n",
       "      <td>5.218607</td>\n",
       "      <td>5.196023</td>\n",
       "      <td>5.093464</td>\n",
       "      <td>41697598</td>\n",
       "      <td>165.555772</td>\n",
       "    </tr>\n",
       "    <tr>\n",
       "      <th>41697599</th>\n",
       "      <td>1.767837</td>\n",
       "      <td>1.549397</td>\n",
       "      <td>1.591213</td>\n",
       "      <td>1.511825</td>\n",
       "      <td>1.473471</td>\n",
       "      <td>1.552465</td>\n",
       "      <td>1.544799</td>\n",
       "      <td>1.555061</td>\n",
       "      <td>1.928561</td>\n",
       "      <td>41697599</td>\n",
       "      <td>3.692502</td>\n",
       "    </tr>\n",
       "  </tbody>\n",
       "</table>\n",
       "<p>41697600 rows × 11 columns</p>\n",
       "</div>"
      ],
      "text/plain": [
       "                p0        p1        p2        p3        p4        p5  \\\n",
       "0         5.594895  5.283822  5.070209  5.171024  5.051921  5.188169   \n",
       "1         4.471448  4.157661  4.332657  4.346334  4.378818  4.444156   \n",
       "2         2.505161  2.199738  2.731363  2.425687  2.632862  2.084031   \n",
       "3         5.782856  5.789957  5.624600  5.394196  5.417315  5.702923   \n",
       "4         6.803643  7.040636  7.082393  6.892032  6.862860  7.305004   \n",
       "...            ...       ...       ...       ...       ...       ...   \n",
       "41697595  2.212548  2.115184  2.051520  2.041869  1.966108  2.083446   \n",
       "41697596  1.954034  2.177629  1.711465  1.749200  1.635521  1.727292   \n",
       "41697597  1.236636  1.972442  1.348969  1.242713  1.370035  2.158276   \n",
       "41697598  5.205480  5.215278  5.191372  5.117185  5.196886  5.191440   \n",
       "41697599  1.767837  1.549397  1.591213  1.511825  1.473471  1.552465   \n",
       "\n",
       "                p6        p7        p8    row_id  meter_reading  \n",
       "0         5.105268  5.006188  5.170560         0     173.370300  \n",
       "1         4.350743  4.441184  4.584682         1      53.512720  \n",
       "2         2.134552  2.332160  2.419872         2       6.143042  \n",
       "3         5.720874  5.574283  5.599818         3     101.701470  \n",
       "4         7.260651  7.049832  6.688233         4    1141.240700  \n",
       "...            ...       ...       ...       ...            ...  \n",
       "41697595  1.988594  1.988963  2.245174  41697595       6.927099  \n",
       "41697596  1.662957  1.656605  2.037146  41697596       6.099778  \n",
       "41697597  2.130444  2.139587  1.771997  41697597       4.461183  \n",
       "41697598  5.218607  5.196023  5.093464  41697598     165.555772  \n",
       "41697599  1.544799  1.555061  1.928561  41697599       3.692502  \n",
       "\n",
       "[41697600 rows x 11 columns]"
      ]
     },
     "execution_count": 11,
     "metadata": {},
     "output_type": "execute_result"
    }
   ],
   "source": [
    "data"
   ]
  },
  {
   "cell_type": "code",
   "execution_count": 12,
   "metadata": {},
   "outputs": [
    {
     "data": {
      "text/plain": [
       "array([-0.02191364,  0.48070002, -0.17384599,  0.40715542,  0.18679708,\n",
       "        0.11762328,  0.41006768,  0.02123486, -0.46739283], dtype=float32)"
      ]
     },
     "execution_count": 12,
     "metadata": {},
     "output_type": "execute_result"
    }
   ],
   "source": [
    "models[1].coef_"
   ]
  },
  {
   "cell_type": "code",
   "execution_count": 13,
   "metadata": {},
   "outputs": [
    {
     "data": {
      "text/plain": [
       "1.006444739177823"
      ]
     },
     "execution_count": 13,
     "metadata": {},
     "output_type": "execute_result"
    }
   ],
   "source": [
    "sum(models[0].coef_)"
   ]
  },
  {
   "cell_type": "code",
   "execution_count": 14,
   "metadata": {},
   "outputs": [
    {
     "data": {
      "text/plain": [
       "array([ 0.10045822,  0.47960997, -0.10574937,  0.12499895,  0.18430434,\n",
       "        0.02294191,  0.49303854,  0.15306675, -0.44622457], dtype=float32)"
      ]
     },
     "execution_count": 14,
     "metadata": {},
     "output_type": "execute_result"
    }
   ],
   "source": [
    "models[0].coef_"
   ]
  },
  {
   "cell_type": "code",
   "execution_count": null,
   "metadata": {},
   "outputs": [],
   "source": []
  }
 ],
 "metadata": {
  "kernelspec": {
   "display_name": "Python 3",
   "language": "python",
   "name": "python3"
  },
  "language_info": {
   "codemirror_mode": {
    "name": "ipython",
    "version": 3
   },
   "file_extension": ".py",
   "mimetype": "text/x-python",
   "name": "python",
   "nbconvert_exporter": "python",
   "pygments_lexer": "ipython3",
   "version": "3.6.6"
  }
 },
 "nbformat": 4,
 "nbformat_minor": 1
}
